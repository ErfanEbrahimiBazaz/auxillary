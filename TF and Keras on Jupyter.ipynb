{
 "cells": [
  {
   "cell_type": "markdown",
   "metadata": {},
   "source": [
    "In order to install tensorflow and keras on jupyter notebook do not use pip install. Instead make sure to use conda install only.\n",
    "\n",
    "Also if after installation kernel keeps dieing, use ```conda update anaconda --yes``` as explained at [here](https://github.com/tensorflow/tensorflow/issues/9829) and [here](https://github.com/tensorflow/tensorflow/issues/21554).\n",
    "\n",
    "```\n",
    "1. conda create -n tensorflow_env tensorflow\n",
    "2. activate tensorflow_env\n",
    "3. conda install keras\n",
    "4. pip install ipykernel\n",
    "5. python -m ipykernel install --user --name=\"Python_tf\"\n",
    "6. jupyter notebook\n",
    "```"
   ]
  }
 ],
 "metadata": {
  "kernelspec": {
   "display_name": "Python_tf",
   "language": "python",
   "name": "python_tf"
  },
  "language_info": {
   "codemirror_mode": {
    "name": "ipython",
    "version": 3
   },
   "file_extension": ".py",
   "mimetype": "text/x-python",
   "name": "python",
   "nbconvert_exporter": "python",
   "pygments_lexer": "ipython3",
   "version": "3.8.8"
  }
 },
 "nbformat": 4,
 "nbformat_minor": 4
}
